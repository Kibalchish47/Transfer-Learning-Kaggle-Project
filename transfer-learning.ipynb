{
 "cells": [
  {
   "cell_type": "markdown",
   "id": "914ace61",
   "metadata": {
    "papermill": {
     "duration": 0.006622,
     "end_time": "2023-09-02T09:07:59.566756",
     "exception": false,
     "start_time": "2023-09-02T09:07:59.560134",
     "status": "completed"
    },
    "tags": []
   },
   "source": [
    "# Transfer Learning\n",
    "\n",
    "If you took the [Computer Vision course](https://www.kaggle.com/learn/computer-vision), you learned how to use a model to make predictions. But what if you have a new use-case, and you don’t categorize images in exactly the same way as the categories for your original model?\n",
    "\n",
    "For example, I might want a model that can tell if a photo was taken in an urban area or a rural area, but my original model doesn’t classify images into those two specific categories.  I could build a new model from scratch for this specific purpose. But to get good results, I’d need thousands of photos with labels for which are urban and which are rural.\n",
    "\n",
    "A method called transfer learning will give good results with far less data. Transfer learning takes what a model learned while solving one problem (called a **pre-trained model**, because the model has already been trained on a different dataset), and applies it to a new application.\n",
    "\n",
    "# Goal of this Notebook\n",
    "\n",
    "[ImageNet](https://en.wikipedia.org/wiki/ImageNet) is a very large image dataset, composed of over 14 million images from thousands of categories.  Keras makes available several models that have been pre-trained on this dataset [here](https://keras.io/api/applications/).  One of the models is [ResNet](https://keras.io/api/applications/resnet/#resnet50-function).\n",
    "\n",
    "In this notebook, we'll show you how to adapt the pre-trained ResNet model to a new task to predict if an image is rural or urban.  You'll work with [this dataset](https://www.kaggle.com/datasets/dansbecker/urban-and-rural-photos).\n",
    "\n",
    "# Background\n",
    "\n",
    "Remember that early layers of a deep learning model identify simple shapes. Later layers identify more complex visual patterns, like roads, buildings, windows, and open fields. These layers will be useful in our new application.  \n",
    "\n",
    "<img src=\"https://i.imgur.com/NdcEZhf.png\" width=500px>\n",
    "\n",
    "The very last layer makes predictions.  We’ll drop in a replacement for this last layer of the ResNet model. \n",
    "\n",
    "The replacement is a dense layer with two nodes. One node captures how urban the photo is, and the other captures how rural it is. In theory, any node in the last layer before prediction might inform how urban it is. So the urban measure can depend on all the nodes in this layer.  We draw connections to show that possible relationship.  For the same reason, the information at each node might affect our measure of how rural the photo is.\n",
    "\n",
    "<img src=\"https://i.imgur.com/ZsJWiDV.png\" width=350px>\n",
    "\n",
    "\n",
    "We have a lot of connections here, and we’ll use training data to determine which nodes suggest an image is urban, which suggest it is rural, and which don’t matter.  That is, we’re going to be training the last layer of the model. In practice, that training data will be photos that are labeled as either rural or urban.  \n",
    "\n",
    "Note: When classifying something into only 2 categories, we could get by with only one node at the output.  In this case, a prediction for how urban a photo is would also be a measure of how rural it is.  If a photo is 80% likely to be urban, it would be 20% likely to be rural. But we’ve kept two separate nodes at the output layer.  Using a separate node for each possible category in the output layer will help us transition to cases when we want to predict with more than 2 categories."
   ]
  },
  {
   "cell_type": "markdown",
   "id": "a434d92e",
   "metadata": {
    "papermill": {
     "duration": 0.005536,
     "end_time": "2023-09-02T09:07:59.578371",
     "exception": false,
     "start_time": "2023-09-02T09:07:59.572835",
     "status": "completed"
    },
    "tags": []
   },
   "source": [
    "# Code\n",
    "\n",
    "### Specify the Model\n",
    "\n",
    "In this application, we classify photos into 2 categories or classes, urban and rural. We’ll save that as `num_classes`.\n",
    "\n",
    "Next we build the model. We set up a sequential model that we can add layers to. First we add a pre-trained ResNet model. When creating the ResNet model, we’ve written `include_top=False`. This is how we specify that we want to exclude the last layer of the ResNet model that makes predictions.  We’ll also use a file that doesn’t include the weights for that layer.\n",
    "\n",
    "The argument `pooling='avg'` says that if we had extra channels in our tensor at the end of this step, we want to collapse them to a 1D tensor by taking an average.  Now we have a pretrained model that creates the layer you saw in the graphic.  We’ll add a `Dense` layer to make predictions.  We specify the number of nodes in this layer, which in this case is the number of classes. Then we apply the softmax function to produce probabilities.\n",
    "\n",
    "<img src=\"https://i.imgur.com/RutdkVs.png\" width=500px>\n",
    "\n",
    "Finally, we’ll tell TensorFlow not to train the first layer of the sequential model, the ResNet50 layers. This is because that’s the model that was already pre-trained with the ImageNet data. \n"
   ]
  },
  {
   "cell_type": "code",
   "execution_count": 1,
   "id": "06a391d5",
   "metadata": {
    "_kg_hide-input": true,
    "execution": {
     "iopub.execute_input": "2023-09-02T09:07:59.592151Z",
     "iopub.status.busy": "2023-09-02T09:07:59.591038Z",
     "iopub.status.idle": "2023-09-02T09:08:09.300265Z",
     "shell.execute_reply": "2023-09-02T09:08:09.299116Z"
    },
    "papermill": {
     "duration": 9.719047,
     "end_time": "2023-09-02T09:08:09.303016",
     "exception": false,
     "start_time": "2023-09-02T09:07:59.583969",
     "status": "completed"
    },
    "tags": []
   },
   "outputs": [],
   "source": [
    "# set random seed / make reproducible\n",
    "import random\n",
    "import numpy as np\n",
    "import tensorflow as tf\n",
    "seed = 0\n",
    "random.seed(seed)\n",
    "np.random.seed(seed)\n",
    "tf.random.set_seed(seed)"
   ]
  },
  {
   "cell_type": "code",
   "execution_count": 2,
   "id": "55839f17",
   "metadata": {
    "_kg_hide-output": false,
    "execution": {
     "iopub.execute_input": "2023-09-02T09:08:09.317026Z",
     "iopub.status.busy": "2023-09-02T09:08:09.316325Z",
     "iopub.status.idle": "2023-09-02T09:08:14.308777Z",
     "shell.execute_reply": "2023-09-02T09:08:14.307646Z"
    },
    "papermill": {
     "duration": 5.001894,
     "end_time": "2023-09-02T09:08:14.311133",
     "exception": false,
     "start_time": "2023-09-02T09:08:09.309239",
     "status": "completed"
    },
    "tags": []
   },
   "outputs": [
    {
     "name": "stdout",
     "output_type": "stream",
     "text": [
      "Model: \"sequential\"\n",
      "_________________________________________________________________\n",
      " Layer (type)                Output Shape              Param #   \n",
      "=================================================================\n",
      " resnet50 (Functional)       (None, 2048)              23587712  \n",
      "                                                                 \n",
      " dense (Dense)               (None, 2)                 4098      \n",
      "                                                                 \n",
      "=================================================================\n",
      "Total params: 23,591,810\n",
      "Trainable params: 4,098\n",
      "Non-trainable params: 23,587,712\n",
      "_________________________________________________________________\n"
     ]
    }
   ],
   "source": [
    "from tensorflow.keras.applications import ResNet50\n",
    "from tensorflow.keras import Sequential\n",
    "from tensorflow.keras.layers import Dense\n",
    "\n",
    "num_classes = 2\n",
    "resnet_weights_path = '../input/resnet50/resnet50_weights_tf_dim_ordering_tf_kernels_notop.h5'\n",
    "\n",
    "my_new_model = Sequential()\n",
    "my_new_model.add(ResNet50(include_top=False, pooling='avg', weights=resnet_weights_path))\n",
    "my_new_model.add(Dense(num_classes, activation='softmax'))\n",
    "\n",
    "# Say not to train first layer (ResNet) model. It is already trained\n",
    "my_new_model.layers[0].trainable = False\n",
    "\n",
    "my_new_model.summary()"
   ]
  },
  {
   "cell_type": "markdown",
   "id": "9f162faf",
   "metadata": {
    "papermill": {
     "duration": 0.006905,
     "end_time": "2023-09-02T09:08:14.325262",
     "exception": false,
     "start_time": "2023-09-02T09:08:14.318357",
     "status": "completed"
    },
    "tags": []
   },
   "source": [
    "### Compile the Model\n",
    "\n",
    "The compile command tells TensorFlow how to update the relationships in the final layer of the network during training.\n",
    "\n",
    "We have a measure of loss or inaccuracy we want to minimize. We specify it as `categorical_crossentropy`. If you are familiar with log-loss, this is another term for the same thing.\n",
    "\n",
    "We use an algorithm called stochastic gradient descent (SGD) to minimize the categorical cross-entropy loss. \n",
    "\n",
    "We ask the code to report the accuracy metric, the fraction of correct predictions. This is easier to interpret than categorical cross-entropy scores, so it’s nice to print it out and see how the model is doing."
   ]
  },
  {
   "cell_type": "code",
   "execution_count": 3,
   "id": "035b4ef0",
   "metadata": {
    "_kg_hide-output": true,
    "execution": {
     "iopub.execute_input": "2023-09-02T09:08:14.341666Z",
     "iopub.status.busy": "2023-09-02T09:08:14.340509Z",
     "iopub.status.idle": "2023-09-02T09:08:14.364971Z",
     "shell.execute_reply": "2023-09-02T09:08:14.363721Z"
    },
    "papermill": {
     "duration": 0.035522,
     "end_time": "2023-09-02T09:08:14.367845",
     "exception": false,
     "start_time": "2023-09-02T09:08:14.332323",
     "status": "completed"
    },
    "tags": []
   },
   "outputs": [],
   "source": [
    "my_new_model.compile(optimizer='sgd', loss='categorical_crossentropy', metrics=['accuracy'])"
   ]
  },
  {
   "cell_type": "markdown",
   "id": "826d1501",
   "metadata": {
    "papermill": {
     "duration": 0.006784,
     "end_time": "2023-09-02T09:08:14.381793",
     "exception": false,
     "start_time": "2023-09-02T09:08:14.375009",
     "status": "completed"
    },
    "tags": []
   },
   "source": [
    "### Load the Image Data\n",
    "\n",
    "Our raw data is broken into a directory of training data and a directory of validation data. Within each of those, we have one subdirectory for the urban pictures and another for the rural pictures. TensorFlow provides a great tool for working with images grouped into directories by their label.  This is the `ImageDataGenerator`. \n",
    "\n",
    "There are two steps to using `ImageDataGenerator`. First we create the generator object in the abstract. We want to apply the ResNet preprocessing function every time it reads in an image. \n",
    "\n",
    "Then we use the `flow_from_directory` command. We tell it what directory that data is in, what size image we want, how many images to read in at a time (the batch size), and we tell it we’re classifying data into different categories. We do the same thing to set up a way to read the validation data.\n",
    "\n",
    "`ImageDataGenerator` is especially very valuable when working with large datasets, because we don’t need to hold the whole dataset in memory at once. But it’s also nice here, with a small dataset. Note that these are generators which means we need to iterate over them to get data out."
   ]
  },
  {
   "cell_type": "code",
   "execution_count": 4,
   "id": "99883855",
   "metadata": {
    "execution": {
     "iopub.execute_input": "2023-09-02T09:08:14.397416Z",
     "iopub.status.busy": "2023-09-02T09:08:14.396994Z",
     "iopub.status.idle": "2023-09-02T09:08:14.464952Z",
     "shell.execute_reply": "2023-09-02T09:08:14.464161Z"
    },
    "papermill": {
     "duration": 0.078332,
     "end_time": "2023-09-02T09:08:14.467171",
     "exception": false,
     "start_time": "2023-09-02T09:08:14.388839",
     "status": "completed"
    },
    "tags": []
   },
   "outputs": [
    {
     "name": "stdout",
     "output_type": "stream",
     "text": [
      "Found 72 images belonging to 2 classes.\n",
      "Found 20 images belonging to 2 classes.\n"
     ]
    }
   ],
   "source": [
    "from tensorflow.keras.applications.resnet50 import preprocess_input\n",
    "from tensorflow.keras.preprocessing.image import ImageDataGenerator\n",
    "\n",
    "image_size = 224\n",
    "data_generator = ImageDataGenerator(preprocessing_function=preprocess_input)\n",
    "\n",
    "\n",
    "train_generator = data_generator.flow_from_directory(\n",
    "        '../input/urban-and-rural-photos/train',\n",
    "        target_size=(image_size, image_size),\n",
    "        batch_size=12,\n",
    "        class_mode='categorical')\n",
    "\n",
    "validation_generator = data_generator.flow_from_directory(\n",
    "        '../input/urban-and-rural-photos/val',\n",
    "        target_size=(image_size, image_size),\n",
    "        batch_size=20,\n",
    "        class_mode='categorical')"
   ]
  },
  {
   "cell_type": "markdown",
   "id": "27a98a3e",
   "metadata": {
    "papermill": {
     "duration": 0.006938,
     "end_time": "2023-09-02T09:08:14.481555",
     "exception": false,
     "start_time": "2023-09-02T09:08:14.474617",
     "status": "completed"
    },
    "tags": []
   },
   "source": [
    "### Fit the Model\n",
    "\n",
    "Now we fit the model.  The training data comes from `train_generator`, and the validation data comes from `validation_generator`.  Since we have 72 training images and read in 12 images at a time, we use 6 steps for a single epoch (`steps_per_epoch=6`).  Likewise, we have 20 validation images, and use one validation step since we read in all 20 images in a single step (`validation_steps=1`).\n",
    "\n",
    "As the model training is running, we’ll see progress updates showing with our loss function and the accuracy. It updates the connections in the dense layer, that is the model’s impression of what makes an urban photo and what makes a rural photo. When it’s done, it gets 78% of the training data right.  Then it examines the validation data. It gets 90% of those right. \n",
    "\n",
    "I should mention that this is a really small dataset and you should be hesitant about relying on validation scores from such a small amount of data.  We’re starting with small datasets so you can get some experience under your belt with models that can be trained quickly."
   ]
  },
  {
   "cell_type": "code",
   "execution_count": 5,
   "id": "351455e2",
   "metadata": {
    "execution": {
     "iopub.execute_input": "2023-09-02T09:08:14.497632Z",
     "iopub.status.busy": "2023-09-02T09:08:14.497189Z",
     "iopub.status.idle": "2023-09-02T09:08:28.851861Z",
     "shell.execute_reply": "2023-09-02T09:08:28.850677Z"
    },
    "papermill": {
     "duration": 14.365741,
     "end_time": "2023-09-02T09:08:28.854387",
     "exception": false,
     "start_time": "2023-09-02T09:08:14.488646",
     "status": "completed"
    },
    "tags": []
   },
   "outputs": [
    {
     "name": "stdout",
     "output_type": "stream",
     "text": [
      "6/6 [==============================] - 14s 2s/step - loss: 1.0231 - accuracy: 0.7083 - val_loss: 0.1376 - val_accuracy: 1.0000\n"
     ]
    },
    {
     "data": {
      "text/plain": [
       "<keras.callbacks.History at 0x7debe14bf4f0>"
      ]
     },
     "execution_count": 5,
     "metadata": {},
     "output_type": "execute_result"
    }
   ],
   "source": [
    "my_new_model.fit(\n",
    "        train_generator,\n",
    "        steps_per_epoch=6,\n",
    "        validation_data=validation_generator,\n",
    "        validation_steps=1)"
   ]
  },
  {
   "cell_type": "markdown",
   "id": "97b93e8b",
   "metadata": {
    "papermill": {
     "duration": 0.007817,
     "end_time": "2023-09-02T09:08:28.870512",
     "exception": false,
     "start_time": "2023-09-02T09:08:28.862695",
     "status": "completed"
    },
    "tags": []
   },
   "source": [
    "Even with the small training dataset, this accuracy score is really good. We trained on 72 photos. You could easily take that many photos on your phone, upload them to [Kaggle Datasets](https://www.kaggle.com/datasets), and build a very accurate model to distinguish almost anything you care about. \n",
    "\n",
    "### Note on Results\n",
    "The printed validation accuracy can be meaningfully better than the training accuracy at this stage. This can be puzzling at first.\n",
    "\n",
    "It occurs because the training accuracy was calculated at multiple points as the network was improving (the numbers in the convolutions were being updated to make the model more accurate).  The network was inaccurate when the model saw the first training images, since the weights hadn't been trained/improved much yet.  Those first training results were averaged into the measure above.\n",
    "\n",
    "The validation loss and accuracy measures were calculated **after** the model had gone through all the data.  So the network had been fully trained when these scores were calculated.\n",
    "\n",
    "This isn't a serious issue in practice, and we tend not to worry about it."
   ]
  }
 ],
 "kernelspec": {
  "display_name": "Python 3",
  "language": "python",
  "name": "python3"
 },
 "language_info": {
  "codemirror_mode": {
   "name": "ipython",
   "version": 3
  },
  "file_extension": ".py",
  "mimetype": "text/x-python",
  "name": "python",
  "nbconvert_exporter": "python",
  "pygments_lexer": "ipython3",
  "version": "3.6.4"
 },
 "metadata": {
  "kernelspec": {
   "display_name": "Python 3",
   "language": "python",
   "name": "python3"
  },
  "language_info": {
   "codemirror_mode": {
    "name": "ipython",
    "version": 3
   },
   "file_extension": ".py",
   "mimetype": "text/x-python",
   "name": "python",
   "nbconvert_exporter": "python",
   "pygments_lexer": "ipython3",
   "version": "3.10.12"
  },
  "papermill": {
   "default_parameters": {},
   "duration": 35.403086,
   "end_time": "2023-09-02T09:08:31.460915",
   "environment_variables": {},
   "exception": null,
   "input_path": "__notebook__.ipynb",
   "output_path": "__notebook__.ipynb",
   "parameters": {},
   "start_time": "2023-09-02T09:07:56.057829",
   "version": "2.4.0"
  }
 },
 "nbformat": 4,
 "nbformat_minor": 5
}
